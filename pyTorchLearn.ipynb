{
 "cells": [
  {
   "cell_type": "code",
   "execution_count": 2,
   "metadata": {},
   "outputs": [
    {
     "name": "stdout",
     "output_type": "stream",
     "text": [
      "111\n"
     ]
    }
   ],
   "source": [
    "import torch\n"
   ]
  },
  {
   "cell_type": "code",
   "execution_count": 3,
   "metadata": {},
   "outputs": [
    {
     "name": "stderr",
     "output_type": "stream",
     "text": [
      "C:\\Users\\Jeff\\AppData\\Local\\Temp\\ipykernel_15812\\3360310955.py:1: UserWarning: Failed to initialize NumPy: module compiled against API version 0x10 but this version of numpy is 0xf (Triggered internally at  ..\\torch\\csrc\\utils\\tensor_numpy.cpp:68.)\n",
      "  x = torch.arange(12)\n"
     ]
    },
    {
     "data": {
      "text/plain": [
       "tensor([ 0,  1,  2,  3,  4,  5,  6,  7,  8,  9, 10, 11])"
      ]
     },
     "execution_count": 3,
     "metadata": {},
     "output_type": "execute_result"
    }
   ],
   "source": [
    "x = torch.arange(12)\n",
    "x"
   ]
  },
  {
   "cell_type": "code",
   "execution_count": 8,
   "metadata": {},
   "outputs": [
    {
     "data": {
      "text/plain": [
       "torch.Size([12])"
      ]
     },
     "execution_count": 8,
     "metadata": {},
     "output_type": "execute_result"
    }
   ],
   "source": [
    "x.shape\n"
   ]
  },
  {
   "cell_type": "code",
   "execution_count": 7,
   "metadata": {},
   "outputs": [
    {
     "data": {
      "text/plain": [
       "12"
      ]
     },
     "execution_count": 7,
     "metadata": {},
     "output_type": "execute_result"
    }
   ],
   "source": [
    "x.numel() "
   ]
  },
  {
   "cell_type": "code",
   "execution_count": 10,
   "metadata": {},
   "outputs": [
    {
     "data": {
      "text/plain": [
       "tensor([[ 0,  1,  2,  3],\n",
       "        [ 4,  5,  6,  7],\n",
       "        [ 8,  9, 10, 11]])"
      ]
     },
     "execution_count": 10,
     "metadata": {},
     "output_type": "execute_result"
    }
   ],
   "source": [
    "x = x.reshape(3,4)\n",
    "x"
   ]
  },
  {
   "cell_type": "code",
   "execution_count": 12,
   "metadata": {},
   "outputs": [
    {
     "data": {
      "text/plain": [
       "tensor([[[1., 1., 1., 1.],\n",
       "         [1., 1., 1., 1.],\n",
       "         [1., 1., 1., 1.]],\n",
       "\n",
       "        [[1., 1., 1., 1.],\n",
       "         [1., 1., 1., 1.],\n",
       "         [1., 1., 1., 1.]]])"
      ]
     },
     "execution_count": 12,
     "metadata": {},
     "output_type": "execute_result"
    }
   ],
   "source": [
    "x = torch.ones((2,3,4))\n",
    "x"
   ]
  },
  {
   "cell_type": "code",
   "execution_count": 18,
   "metadata": {},
   "outputs": [
    {
     "data": {
      "text/plain": [
       "tensor([[[1, 2, 3],\n",
       "         [1, 2, 3]]])"
      ]
     },
     "execution_count": 18,
     "metadata": {},
     "output_type": "execute_result"
    }
   ],
   "source": [
    "x = torch.tensor([[[1,2,3],[1,2,3]]])\n",
    "\n",
    "x"
   ]
  },
  {
   "cell_type": "code",
   "execution_count": 20,
   "metadata": {},
   "outputs": [
    {
     "data": {
      "text/plain": [
       "(tensor([ 3.,  4.,  6., 10.]),\n",
       " tensor([-1.,  0.,  2.,  6.]),\n",
       " tensor([ 2.,  4.,  8., 16.]),\n",
       " tensor([0.5000, 1.0000, 2.0000, 4.0000]),\n",
       " tensor([ 1.,  4., 16., 64.]))"
      ]
     },
     "execution_count": 20,
     "metadata": {},
     "output_type": "execute_result"
    }
   ],
   "source": [
    "x = torch.tensor([1.0,2,4,8])\n",
    "x\n",
    "y = torch.tensor([2,2,2,2])\n",
    "y\n",
    "x+y,x-y,x*y,x/y,x**y"
   ]
  },
  {
   "cell_type": "code",
   "execution_count": 25,
   "metadata": {},
   "outputs": [
    {
     "data": {
      "text/plain": [
       "(tensor([[ 0.,  1.,  2.,  3.],\n",
       "         [ 4.,  5.,  6.,  7.],\n",
       "         [ 8.,  9., 10., 11.],\n",
       "         [ 2.,  1.,  4.,  3.],\n",
       "         [ 1.,  2.,  3.,  4.],\n",
       "         [ 4.,  3.,  2.,  1.]]),\n",
       " tensor([[ 0.,  1.,  2.,  3.,  2.,  1.,  4.,  3.],\n",
       "         [ 4.,  5.,  6.,  7.,  1.,  2.,  3.,  4.],\n",
       "         [ 8.,  9., 10., 11.,  4.,  3.,  2.,  1.]]))"
      ]
     },
     "execution_count": 25,
     "metadata": {},
     "output_type": "execute_result"
    }
   ],
   "source": [
    "x = torch.arange(12,dtype=torch.float32).reshape((3,4))\n",
    "y = torch.tensor([[2.0,1,4,3],[1,2,3,4],[4,3,2,1]])\n",
    "torch.cat((x,y),dim=0),torch.cat((x,y),dim=1)"
   ]
  },
  {
   "cell_type": "code",
   "execution_count": 29,
   "metadata": {},
   "outputs": [
    {
     "data": {
      "text/plain": [
       "tensor(66.)"
      ]
     },
     "execution_count": 29,
     "metadata": {},
     "output_type": "execute_result"
    }
   ],
   "source": [
    "x == y\n",
    "x.sum()"
   ]
  },
  {
   "cell_type": "code",
   "execution_count": 31,
   "metadata": {},
   "outputs": [
    {
     "data": {
      "text/plain": [
       "(tensor([[0],\n",
       "         [1],\n",
       "         [2]]),\n",
       " tensor([[0, 1]]),\n",
       " tensor([[0, 1],\n",
       "         [1, 2],\n",
       "         [2, 3]]))"
      ]
     },
     "execution_count": 31,
     "metadata": {},
     "output_type": "execute_result"
    }
   ],
   "source": [
    "a = torch.arange(3).reshape(3,1)\n",
    "b = torch.arange(2).reshape(1,2)\n",
    "\n",
    "a,b,a+b"
   ]
  },
  {
   "cell_type": "code",
   "execution_count": 32,
   "metadata": {},
   "outputs": [
    {
     "data": {
      "text/plain": [
       "(tensor([ 8.,  9., 10., 11.]),\n",
       " tensor([[ 4.,  5.,  6.,  7.],\n",
       "         [ 8.,  9., 10., 11.]]))"
      ]
     },
     "execution_count": 32,
     "metadata": {},
     "output_type": "execute_result"
    }
   ],
   "source": [
    "x[-1],x[1:3]"
   ]
  },
  {
   "cell_type": "code",
   "execution_count": 33,
   "metadata": {},
   "outputs": [
    {
     "data": {
      "text/plain": [
       "False"
      ]
     },
     "execution_count": 33,
     "metadata": {},
     "output_type": "execute_result"
    }
   ],
   "source": [
    "before = id(y)\n",
    "y = y+x\n",
    "id(y)==before"
   ]
  },
  {
   "cell_type": "code",
   "execution_count": 34,
   "metadata": {},
   "outputs": [
    {
     "name": "stdout",
     "output_type": "stream",
     "text": [
      "1712731674304\n",
      "tensor([[ 2.,  3.,  8.,  9.],\n",
      "        [ 9., 12., 15., 18.],\n",
      "        [20., 21., 22., 23.]])\n"
     ]
    }
   ],
   "source": [
    "z = torch.zeros_like(y)\n",
    "\n",
    "print(id(z))\n",
    "\n",
    "z[:]=x +y\n",
    "\n",
    "print(z)"
   ]
  },
  {
   "cell_type": "code",
   "execution_count": 40,
   "metadata": {},
   "outputs": [
    {
     "ename": "ModuleNotFoundError",
     "evalue": "No module named 'mxnet'",
     "output_type": "error",
     "traceback": [
      "\u001b[1;31m---------------------------------------------------------------------------\u001b[0m",
      "\u001b[1;31mModuleNotFoundError\u001b[0m                       Traceback (most recent call last)",
      "\u001b[1;32me:\\github\\Interesting code\\Interesting\\pyTorchLearn.ipynb Cell 15\u001b[0m in \u001b[0;36m<cell line: 2>\u001b[1;34m()\u001b[0m\n\u001b[0;32m      <a href='vscode-notebook-cell:/e%3A/github/Interesting%20code/Interesting/pyTorchLearn.ipynb#X22sZmlsZQ%3D%3D?line=0'>1</a>\u001b[0m \u001b[39mimport\u001b[39;00m \u001b[39mos\u001b[39;00m\n\u001b[1;32m----> <a href='vscode-notebook-cell:/e%3A/github/Interesting%20code/Interesting/pyTorchLearn.ipynb#X22sZmlsZQ%3D%3D?line=1'>2</a>\u001b[0m \u001b[39mfrom\u001b[39;00m \u001b[39mmxnet\u001b[39;00m \u001b[39mimport\u001b[39;00m sys\n\u001b[0;32m      <a href='vscode-notebook-cell:/e%3A/github/Interesting%20code/Interesting/pyTorchLearn.ipynb#X22sZmlsZQ%3D%3D?line=2'>3</a>\u001b[0m a \u001b[39m=\u001b[39m sym\u001b[39m.\u001b[39mvar()\n\u001b[0;32m      <a href='vscode-notebook-cell:/e%3A/github/Interesting%20code/Interesting/pyTorchLearn.ipynb#X22sZmlsZQ%3D%3D?line=3'>4</a>\u001b[0m b \u001b[39m=\u001b[39m sym\u001b[39m.\u001b[39mvar()\n",
      "\u001b[1;31mModuleNotFoundError\u001b[0m: No module named 'mxnet'"
     ]
    }
   ],
   "source": [
    "# import os\n",
    "# from mxnet import sys\n",
    "# a = sym.var()\n",
    "# b = sym.var()\n",
    "# c=2*a+b \n"
   ]
  },
  {
   "cell_type": "code",
   "execution_count": 46,
   "metadata": {},
   "outputs": [
    {
     "data": {
      "text/plain": [
       "tensor([True, True, True, True])"
      ]
     },
     "execution_count": 46,
     "metadata": {},
     "output_type": "execute_result"
    }
   ],
   "source": [
    "import torch \n",
    "x = torch.arange(4.0)\n",
    "x\n",
    "\n",
    "x.requires_grad_(True)\n",
    "x.grad\n",
    "\n",
    "\n",
    "y = 2 * torch.dot(x,x)\n",
    "y.backward()\n",
    "\n",
    "x.grad == 4*x"
   ]
  },
  {
   "cell_type": "code",
   "execution_count": 50,
   "metadata": {},
   "outputs": [
    {
     "data": {
      "text/plain": [
       "tensor([True, True, True, True])"
      ]
     },
     "execution_count": 50,
     "metadata": {},
     "output_type": "execute_result"
    }
   ],
   "source": [
    "x.grad.zero_()\n",
    "y = x * x\n",
    "u = y.detach()\n",
    "z = u * x\n",
    "z.sum().backward()\n",
    "x.grad==u"
   ]
  },
  {
   "cell_type": "code",
   "execution_count": 52,
   "metadata": {},
   "outputs": [
    {
     "data": {
      "text/plain": [
       "(tensor(True), tensor(1.1380, requires_grad=True))"
      ]
     },
     "execution_count": 52,
     "metadata": {},
     "output_type": "execute_result"
    }
   ],
   "source": [
    "def f(a):\n",
    "    b =a *2 \n",
    "    while b.norm() <1000:\n",
    "        b =b *2\n",
    "    if b.sum() >0:\n",
    "         c= b\n",
    "    else :\n",
    "        c =100*b\n",
    "    return c\n",
    "a = torch.randn(size=(),requires_grad=True)\n",
    "d=f(a)\n",
    "d.backward()\n",
    "a.grad == d/a,a\n"
   ]
  },
  {
   "cell_type": "code",
   "execution_count": 60,
   "metadata": {},
   "outputs": [],
   "source": []
  },
  {
   "cell_type": "code",
   "execution_count": 63,
   "metadata": {},
   "outputs": [
    {
     "name": "stdout",
     "output_type": "stream",
     "text": [
      "tensor([[-0.3702, -0.5882, -0.2702],\n",
      "        [ 1.5920, -0.5975,  0.6579],\n",
      "        [ 0.1348, -1.3882, -0.3009],\n",
      "        [-0.4006, -0.3580,  0.5757],\n",
      "        [-1.3728,  0.4972, -0.3455],\n",
      "        [ 0.1194, -0.3869, -0.1742],\n",
      "        [ 0.6839,  0.4475,  0.1611],\n",
      "        [-0.4269, -1.4057, -0.3914],\n",
      "        [ 0.1179, -0.3094, -0.6969],\n",
      "        [ 0.5021,  1.1965,  0.3941]]) \n",
      " tensor([[ 4.1525],\n",
      "        [11.8003],\n",
      "        [ 7.4116],\n",
      "        [ 6.7560],\n",
      "        [-1.4304],\n",
      "        [ 4.8947],\n",
      "        [ 4.8626],\n",
      "        [ 6.0043],\n",
      "        [ 2.5552],\n",
      "        [ 3.2080]])\n"
     ]
    }
   ],
   "source": [
    "from lib2to3.pgen2.token import BACKQUOTE\n",
    "import numbers\n",
    "from random import shuffle\n",
    "from xml.sax.handler import feature_external_ges\n",
    "%matplotlib inline\n",
    "import random\n",
    "import torch\n",
    "\n",
    "def synthetic_data(w,b,num_examples):\n",
    "     x = torch.normal(0,1,(num_examples,len(w)))\n",
    "     y = torch.matmul(x,w)+b\n",
    "     y+= torch.normal(0,0.01,y.shape)\n",
    "     return x,y.reshape((-1,1))\n",
    "\n",
    "true_w  = torch.tensor([2,-3,4],dtype=torch.float)\n",
    "true_b = 4.2\n",
    "features,labels= synthetic_data(true_w,true_b,1000)\n",
    "\n",
    "def data_iter(batch_size,features,labels):\n",
    "    num_example =len(featrues)\n",
    "    indices = list(range(num_example))\n",
    "    random.shuffle(indices)\n",
    "    for i in range(0,num_example,batch_size):\n",
    "        batch_indices = torch.tensor(indices[i:min(i+batch_size,num_example)])\n",
    "\n",
    "        yield features[batch_indices],labels[batch_indices]\n",
    "batch_size=10 \n",
    "for x, y in data_iter(batch_size,features,labels):\n",
    "    print(x,'\\n',y)\n",
    "    break"
   ]
  },
  {
   "cell_type": "code",
   "execution_count": 66,
   "metadata": {},
   "outputs": [
    {
     "ename": "RuntimeError",
     "evalue": "mat1 and mat2 shapes cannot be multiplied (10x3 and 2x1)",
     "output_type": "error",
     "traceback": [
      "\u001b[1;31m---------------------------------------------------------------------------\u001b[0m",
      "\u001b[1;31mRuntimeError\u001b[0m                              Traceback (most recent call last)",
      "\u001b[1;32me:\\github\\Interesting code\\Interesting\\pyTorchLearn.ipynb Cell 21\u001b[0m in \u001b[0;36m<cell line: 22>\u001b[1;34m()\u001b[0m\n\u001b[0;32m     <a href='vscode-notebook-cell:/e%3A/github/Interesting%20code/Interesting/pyTorchLearn.ipynb#X31sZmlsZQ%3D%3D?line=21'>22</a>\u001b[0m \u001b[39mfor\u001b[39;00m epoch \u001b[39min\u001b[39;00m \u001b[39mrange\u001b[39m(num_epochs):\n\u001b[0;32m     <a href='vscode-notebook-cell:/e%3A/github/Interesting%20code/Interesting/pyTorchLearn.ipynb#X31sZmlsZQ%3D%3D?line=22'>23</a>\u001b[0m     \u001b[39mfor\u001b[39;00m x , y \u001b[39min\u001b[39;00m data_iter(batch_size,features,labels):\n\u001b[1;32m---> <a href='vscode-notebook-cell:/e%3A/github/Interesting%20code/Interesting/pyTorchLearn.ipynb#X31sZmlsZQ%3D%3D?line=23'>24</a>\u001b[0m         l \u001b[39m=\u001b[39m loss(net(x,w,b),y)\n\u001b[0;32m     <a href='vscode-notebook-cell:/e%3A/github/Interesting%20code/Interesting/pyTorchLearn.ipynb#X31sZmlsZQ%3D%3D?line=24'>25</a>\u001b[0m         l\u001b[39m.\u001b[39msum()\u001b[39m.\u001b[39mbackward()\n\u001b[0;32m     <a href='vscode-notebook-cell:/e%3A/github/Interesting%20code/Interesting/pyTorchLearn.ipynb#X31sZmlsZQ%3D%3D?line=25'>26</a>\u001b[0m         sgd([w,b],lr,batch_size)\n",
      "\u001b[1;32me:\\github\\Interesting code\\Interesting\\pyTorchLearn.ipynb Cell 21\u001b[0m in \u001b[0;36mlinreg\u001b[1;34m(x, w, b)\u001b[0m\n\u001b[0;32m      <a href='vscode-notebook-cell:/e%3A/github/Interesting%20code/Interesting/pyTorchLearn.ipynb#X31sZmlsZQ%3D%3D?line=5'>6</a>\u001b[0m \u001b[39mdef\u001b[39;00m \u001b[39mlinreg\u001b[39m(x,w,b):\n\u001b[1;32m----> <a href='vscode-notebook-cell:/e%3A/github/Interesting%20code/Interesting/pyTorchLearn.ipynb#X31sZmlsZQ%3D%3D?line=6'>7</a>\u001b[0m     \u001b[39mreturn\u001b[39;00m torch\u001b[39m.\u001b[39;49mmatmul(x,w)\u001b[39m+\u001b[39mb\n",
      "\u001b[1;31mRuntimeError\u001b[0m: mat1 and mat2 shapes cannot be multiplied (10x3 and 2x1)"
     ]
    }
   ],
   "source": [
    "import re\n",
    "\n",
    "\n",
    "w = torch.normal(0,0.01,size=(2,1),requires_grad=True) #均值 方差 行2列1\n",
    "b = torch.zeros(1,requires_grad=True)\n",
    "def linreg(x,w,b):\n",
    "    return torch.matmul(x,w)+b\n",
    "\n",
    "def squared_loss(y_hat,y):\n",
    "    return(y_hat-y.reshape(y_hat.shape))**2/2\n",
    "\n",
    "def sgd(params,lr,batch_size):\n",
    "    with torch.no_grad():\n",
    "        for pararm in params:\n",
    "            param -= lr *pararm.grad/batch_size\n",
    "            param.grad.zero_()\n",
    "\n",
    "lr = 0.03\n",
    "num_epochs = 3\n",
    "net =linreg\n",
    "loss= squared_loss\n",
    "for epoch in range(num_epochs):\n",
    "    for x , y in data_iter(batch_size,features,labels):\n",
    "        l = loss(net(x,w,b),y)\n",
    "        l.sum().backward()\n",
    "        sgd([w,b],lr,batch_size)\n",
    "    with torch.no_grad():\n",
    "        train_l = loss(net(features,w,b),labels)"
   ]
  },
  {
   "cell_type": "code",
   "execution_count": 2,
   "metadata": {},
   "outputs": [
    {
     "name": "stderr",
     "output_type": "stream",
     "text": [
      "e:\\python\\lib\\site-packages\\torch\\nn\\modules\\linear.py:96: UserWarning: Failed to initialize NumPy: module compiled against API version 0x10 but this version of numpy is 0xf (Triggered internally at  ..\\torch\\csrc\\utils\\tensor_numpy.cpp:68.)\n",
      "  self.weight = Parameter(torch.empty((out_features, in_features), **factory_kwargs))\n"
     ]
    },
    {
     "data": {
      "text/plain": [
       "tensor([0.])"
      ]
     },
     "execution_count": 2,
     "metadata": {},
     "output_type": "execute_result"
    }
   ],
   "source": [
    "from torch import nn\n",
    "net = nn.Sequential(nn.Linear(2,1))\n",
    "net[0].weight.data.normal_(0,0.01)\n",
    "net[0].bias.data.fill_(0)"
   ]
  }
 ],
 "metadata": {
  "kernelspec": {
   "display_name": "Python 3.10.4 64-bit",
   "language": "python",
   "name": "python3"
  },
  "language_info": {
   "codemirror_mode": {
    "name": "ipython",
    "version": 3
   },
   "file_extension": ".py",
   "mimetype": "text/x-python",
   "name": "python",
   "nbconvert_exporter": "python",
   "pygments_lexer": "ipython3",
   "version": "3.10.4"
  },
  "orig_nbformat": 4,
  "vscode": {
   "interpreter": {
    "hash": "47e86d731e077963188d400b641a1f5cee6401b89b8a1175acb1a082248e2517"
   }
  }
 },
 "nbformat": 4,
 "nbformat_minor": 2
}
